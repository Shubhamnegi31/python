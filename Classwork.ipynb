{
  "nbformat": 4,
  "nbformat_minor": 0,
  "metadata": {
    "colab": {
      "provenance": [],
      "include_colab_link": true
    },
    "kernelspec": {
      "name": "python3",
      "display_name": "Python 3"
    },
    "language_info": {
      "name": "python"
    }
  },
  "cells": [
    {
      "cell_type": "markdown",
      "metadata": {
        "id": "view-in-github",
        "colab_type": "text"
      },
      "source": [
        "<a href=\"https://colab.research.google.com/github/Shubhamnegi31/python/blob/main/Classwork.ipynb\" target=\"_parent\"><img src=\"https://colab.research.google.com/assets/colab-badge.svg\" alt=\"Open In Colab\"/></a>"
      ]
    },
    {
      "cell_type": "code",
      "execution_count": null,
      "metadata": {
        "id": "vk8r-pQfU38S"
      },
      "outputs": [],
      "source": [
        "if __name__=\"__main__\":\n",
        "  main()"
      ]
    },
    {
      "cell_type": "code",
      "source": [],
      "metadata": {
        "id": "r7A0StlHYNMx"
      },
      "execution_count": null,
      "outputs": []
    },
    {
      "cell_type": "code",
      "source": [
        "%cd /content/drive/MyDrive/Colab Notebooks"
      ],
      "metadata": {
        "colab": {
          "base_uri": "https://localhost:8080/"
        },
        "id": "j2mXJDxMZLer",
        "outputId": "d0b8fa07-550d-415c-86b7-a18efa871c8c"
      },
      "execution_count": null,
      "outputs": [
        {
          "output_type": "stream",
          "name": "stdout",
          "text": [
            "/content/drive/MyDrive/Colab Notebooks\n"
          ]
        }
      ]
    },
    {
      "cell_type": "code",
      "source": [
        "%ls"
      ],
      "metadata": {
        "colab": {
          "base_uri": "https://localhost:8080/"
        },
        "id": "lk6PToWGZihJ",
        "outputId": "2e68d67e-4e28-40e8-944e-b7e3ca64f457"
      },
      "execution_count": null,
      "outputs": [
        {
          "output_type": "stream",
          "name": "stdout",
          "text": [
            " class_20_02_24.py             my-app.py          Untitled16.ipynb   Untitled3.ipynb\n",
            " Class_Modules_20_02_2024.py   \u001b[0m\u001b[01;34m__pycache__\u001b[0m/       Untitled17.ipynb   Untitled4.ipynb\n",
            "'Copy of Untitled0.ipynb'      test1.txt          Untitled18.ipynb   Untitled5.ipynb\n",
            "'Copy of Untitled14.ipynb'     Untitled0.ipynb    Untitled19.ipynb   Untitled6.ipynb\n",
            "'Copy of Untitled1.ipynb'      Untitled10.ipynb   Untitled1.ipynb    Untitled7.ipynb\n",
            "'Copy of Untitled2.ipynb'      Untitled11.ipynb   Untitled20.ipynb   Untitled8.ipynb\n",
            "'Copy of Untitled5.ipynb'      Untitled12.ipynb   Untitled21.ipynb   Untitled9.ipynb\n",
            " Functions.py                  Untitled13.ipynb   Untitled22.ipynb\n",
            " main_c.py                     Untitled14.ipynb   Untitled23.ipynb\n",
            " maximum_ele.py                Untitled15.ipynb   Untitled2.ipynb\n"
          ]
        }
      ]
    },
    {
      "cell_type": "code",
      "source": [
        "class A:\n",
        "  def show(self):         #Public\n",
        "    print(\"Hello!\")\n",
        "  def __show(self):       #Private\n",
        "    print(\"No one can get here!\")\n",
        "  def _show(self):        #Protected\n",
        "    print(\"Only Child class can get here!\")\n",
        "class B(A):\n",
        "  pass\n",
        "class C(B):\n",
        "  pass\n"
      ],
      "metadata": {
        "id": "b2gsDkygaI95"
      },
      "execution_count": null,
      "outputs": []
    },
    {
      "cell_type": "code",
      "source": [],
      "metadata": {
        "id": "tDrKxKTFfx-G"
      },
      "execution_count": null,
      "outputs": []
    },
    {
      "cell_type": "code",
      "source": [
        "class Employee:\n",
        "  _Name=\"Sajid\"                #All atr\n",
        "  _Email=\"abc@XYZ\"\n",
        "  def __init__(self):\n",
        "    print(self._Name)\n",
        "  def _dept(self):\n",
        "    pass\n",
        "\n",
        "E1=Employee()\n",
        "E1._Name\n",
        "E1._Email\n",
        "\n",
        "class Professor(Employee):\n",
        "  def __init__(self,Name,Email):\n",
        "    self.name=Name\n",
        "    self.email=Email\n",
        "\n",
        "P1=Professor(\"Sajid\",\"abc@XYZ\")\n",
        "P1._Name\n",
        "P1._Email\n"
      ],
      "metadata": {
        "colab": {
          "base_uri": "https://localhost:8080/",
          "height": 54
        },
        "id": "pFqaGu8ZbTcQ",
        "outputId": "b80145d3-e17a-4ea0-cb3f-e86bade62efd"
      },
      "execution_count": null,
      "outputs": [
        {
          "output_type": "stream",
          "name": "stdout",
          "text": [
            "Sajid\n"
          ]
        },
        {
          "output_type": "execute_result",
          "data": {
            "text/plain": [
              "'abc@XYZ'"
            ],
            "application/vnd.google.colaboratory.intrinsic+json": {
              "type": "string"
            }
          },
          "metadata": {},
          "execution_count": 8
        }
      ]
    },
    {
      "cell_type": "code",
      "source": [
        "class Employee:\n",
        "  __Name=\"Sumit\"\n",
        "  __Email=\"abc@XYZ\"\n",
        "  def __init__(self):\n",
        "    print(self.__Email)\n",
        "  def __dept(self):\n",
        "    print(self.__Name)\n",
        "\n",
        "E2=Employee()\n",
        "E2.__Name"
      ],
      "metadata": {
        "colab": {
          "base_uri": "https://localhost:8080/",
          "height": 199
        },
        "id": "JOq_mV3Rd4SL",
        "outputId": "022db275-c756-4521-a870-5973e0781aef"
      },
      "execution_count": null,
      "outputs": [
        {
          "output_type": "stream",
          "name": "stdout",
          "text": [
            "abc@XYZ\n"
          ]
        },
        {
          "output_type": "error",
          "ename": "AttributeError",
          "evalue": "'Employee' object has no attribute '__Name'",
          "traceback": [
            "\u001b[0;31m---------------------------------------------------------------------------\u001b[0m",
            "\u001b[0;31mAttributeError\u001b[0m                            Traceback (most recent call last)",
            "\u001b[0;32m<ipython-input-7-692af7b8554e>\u001b[0m in \u001b[0;36m<cell line: 10>\u001b[0;34m()\u001b[0m\n\u001b[1;32m      8\u001b[0m \u001b[0;34m\u001b[0m\u001b[0m\n\u001b[1;32m      9\u001b[0m \u001b[0mE2\u001b[0m\u001b[0;34m=\u001b[0m\u001b[0mEmployee\u001b[0m\u001b[0;34m(\u001b[0m\u001b[0;34m)\u001b[0m\u001b[0;34m\u001b[0m\u001b[0;34m\u001b[0m\u001b[0m\n\u001b[0;32m---> 10\u001b[0;31m \u001b[0mE2\u001b[0m\u001b[0;34m.\u001b[0m\u001b[0m__Name\u001b[0m\u001b[0;34m\u001b[0m\u001b[0;34m\u001b[0m\u001b[0m\n\u001b[0m",
            "\u001b[0;31mAttributeError\u001b[0m: 'Employee' object has no attribute '__Name'"
          ]
        }
      ]
    }
  ]
}